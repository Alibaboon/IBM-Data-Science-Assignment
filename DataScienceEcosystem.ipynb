{
 "cells": [
  {
   "cell_type": "markdown",
   "id": "c1f0014e-b096-493a-90be-c472062ddfa9",
   "metadata": {},
   "source": [
    "# Data Science Tools and Ecosystem"
   ]
  },
  {
   "cell_type": "markdown",
   "id": "7d8aba6a-b881-4295-84f3-a650cda1d1a3",
   "metadata": {},
   "source": [
    "In this notebook, Data Science Tools and Ecosystem are summarized."
   ]
  },
  {
   "cell_type": "markdown",
   "id": "9d286711-55ce-4f1e-b61f-9aa3da7aa7cb",
   "metadata": {},
   "source": [
    "Some of the popular languages that Data Scientists use are:\n",
    "1. SQL\n",
    "2. Python\n",
    "3. R"
   ]
  },
  {
   "cell_type": "markdown",
   "id": "55b40756-f521-433b-9222-b401c99d2308",
   "metadata": {},
   "source": [
    "Some of the commonly used libraries used by Data Scientists include:\n",
    "1. numpy\n",
    "2. matplotlib\n",
    "3. scipy\n",
    "4. pandas"
   ]
  },
  {
   "cell_type": "markdown",
   "id": "f81ff381-01ab-47ef-9016-50976eab4c08",
   "metadata": {},
   "source": [
    "| Data Science Tools |\n",
    "| ------------------ |\n",
    "| Python |\n",
    "| hadoop |\n",
    "| Rstudio |"
   ]
  },
  {
   "cell_type": "markdown",
   "id": "475e5986-8f18-4233-ad4e-cd8963f1781a",
   "metadata": {},
   "source": [
    "### Below are a few examples of evaluating arithmetic expressions in Python"
   ]
  },
  {
   "cell_type": "code",
   "execution_count": 2,
   "id": "112e1e39-0112-409c-9597-97991896dc99",
   "metadata": {},
   "outputs": [
    {
     "data": {
      "text/plain": [
       "17"
      ]
     },
     "execution_count": 2,
     "metadata": {},
     "output_type": "execute_result"
    }
   ],
   "source": [
    "#This a simple arithmetic expression to mutiply then add integers\n",
    "(3*4)+5"
   ]
  },
  {
   "cell_type": "code",
   "execution_count": 3,
   "id": "0aa3bb44-19ab-4034-9a7c-e7c13a3370d2",
   "metadata": {},
   "outputs": [
    {
     "name": "stdout",
     "output_type": "stream",
     "text": [
      "3.3333333333333335\n"
     ]
    }
   ],
   "source": [
    "#This will convert 200 minutes to hours by diving by 60\n",
    "minutes = 200\n",
    "hours = minutes / 60\n",
    "print(hours)"
   ]
  },
  {
   "cell_type": "markdown",
   "id": "5f7d5e99-4481-4d2e-864d-fe1d309e25a1",
   "metadata": {},
   "source": [
    "**Objectives:**\n",
    "- know how to write markdown\n",
    "- create order and un order list\n",
    "- write simple python code"
   ]
  },
  {
   "cell_type": "markdown",
   "id": "24f650ab-3a12-45fc-85c0-447f269f9649",
   "metadata": {},
   "source": [
    "## Author\n",
    "Arnat Joalumluk"
   ]
  }
 ],
 "metadata": {
  "kernelspec": {
   "display_name": "Python 3 (ipykernel)",
   "language": "python",
   "name": "python3"
  },
  "language_info": {
   "codemirror_mode": {
    "name": "ipython",
    "version": 3
   },
   "file_extension": ".py",
   "mimetype": "text/x-python",
   "name": "python",
   "nbconvert_exporter": "python",
   "pygments_lexer": "ipython3",
   "version": "3.11.9"
  }
 },
 "nbformat": 4,
 "nbformat_minor": 5
}
